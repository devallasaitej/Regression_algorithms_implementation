{
 "cells": [
  {
   "cell_type": "code",
   "execution_count": null,
   "metadata": {},
   "outputs": [],
   "source": [
    "# Installing required libraries\n",
    "#pip install numpy pandas matplotlib seaborn scikit-learn nbimporter"
   ]
  },
  {
   "cell_type": "code",
   "execution_count": 1,
   "metadata": {},
   "outputs": [],
   "source": [
    "# Importing required libraries\n",
    "import numpy as np\n",
    "import matplotlib.pyplot as plt"
   ]
  },
  {
   "cell_type": "code",
   "execution_count": 2,
   "metadata": {},
   "outputs": [],
   "source": [
    "class LinearRegression:\n",
    "\n",
    "    def __init__(self, lr = 0.001, n_iters = 1000, regularization=\"none\",reg_param=0.01):\n",
    "        self.lr = lr\n",
    "        self.n_iters = n_iters\n",
    "        self.weights = None\n",
    "        self.bias = None\n",
    "        self.cost_history = []\n",
    "        self.regularization = regularization  # 'none', 'l2' for Ridge, 'l1' for Lasso\n",
    "        self.reg_param = reg_param  # Regularization strength\n",
    "    \n",
    "    def fit(self, X,y):\n",
    "        n_samples, n_features = X.shape\n",
    "        self.weights = np.zeros(n_features)\n",
    "        self.bias = 0\n",
    "\n",
    "        previous_error = float('inf')  # Start with a high error\n",
    "\n",
    "        for _ in range(self.n_iters):\n",
    "            y_predicted = np.dot(X, self.weights) + self.bias \n",
    "            error = np.mean((y - y_predicted) ** 2)  # MSE for this iteration\n",
    "            self.cost_history.append(error)  # Track error\n",
    "\n",
    "            # Check if error change is below the tolerance level\n",
    "            if abs(previous_error - error) < 1e-6:\n",
    "                print(\"Early stopping at iteration:\", _)\n",
    "                break\n",
    "            \n",
    "            dw = (1/n_samples) * np.dot(X.T, (y_predicted-y))\n",
    "            db = (1/n_samples) * np.sum(y_predicted-y)\n",
    "\n",
    "            # Apply regularization to gradients if enabled\n",
    "            if self.regularization == \"l2\":  # Ridge\n",
    "                dw += (self.reg_param / n_samples) * self.weights\n",
    "            elif self.regularization == \"l1\":  # Lasso\n",
    "                dw += (self.reg_param / n_samples) * np.sign(self.weights)\n",
    "            \n",
    "            self.weights -= self.lr*dw\n",
    "            self.bias -= self.lr*db\n",
    "            previous_error = error\n",
    "\n",
    "    def predict(self, X):\n",
    "        y_predicted = np.dot(X, self.weights) + self.bias\n",
    "        return y_predicted \n"
   ]
  },
  {
   "cell_type": "code",
   "execution_count": null,
   "metadata": {},
   "outputs": [],
   "source": []
  }
 ],
 "metadata": {
  "kernelspec": {
   "display_name": "base",
   "language": "python",
   "name": "python3"
  },
  "language_info": {
   "codemirror_mode": {
    "name": "ipython",
    "version": 3
   },
   "file_extension": ".py",
   "mimetype": "text/x-python",
   "name": "python",
   "nbconvert_exporter": "python",
   "pygments_lexer": "ipython3",
   "version": "3.11.4"
  }
 },
 "nbformat": 4,
 "nbformat_minor": 2
}
